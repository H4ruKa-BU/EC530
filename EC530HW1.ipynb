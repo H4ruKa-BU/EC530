{
  "nbformat": 4,
  "nbformat_minor": 0,
  "metadata": {
    "colab": {
      "provenance": []
    },
    "kernelspec": {
      "name": "python3",
      "display_name": "Python 3"
    },
    "language_info": {
      "name": "python"
    }
  },
  "cells": [
    {
      "cell_type": "markdown",
      "source": [
        "EC530 HW1"
      ],
      "metadata": {
        "id": "SXsQe3cUm3k5"
      }
    },
    {
      "cell_type": "code",
      "source": [
        "import math\n",
        "\n",
        "# A gentle reminder: The Earth is round, and so are the distances we calculate.\n",
        "def haversine_distance(lat1, lon1, lat2, lon2):\n",
        "    \"\"\"\n",
        "    Compute the great-circle distance between two points on Earth using the Haversine formula.\n",
        "\n",
        "    Parameters:\n",
        "        lat1, lon1: Latitude and Longitude of the first point in decimal degrees.\n",
        "        lat2, lon2: Latitude and Longitude of the second point in decimal degrees.\n",
        "\n",
        "    Returns:\n",
        "        The distance between the two points in kilometers.\n",
        "    \"\"\"\n",
        "    # Convert degrees to radians for accurate trigonometric calculations\n",
        "    lat1, lon1, lat2, lon2 = map(math.radians, [lat1, lon1, lat2, lon2])\n",
        "\n",
        "    # Haversine formula to find the great-circle distance\n",
        "    dlat = lat2 - lat1\n",
        "    dlon = lon2 - lon1\n",
        "    a = math.sin(dlat / 2)**2 + math.cos(lat1) * math.cos(lat2) * math.sin(dlon / 2)**2\n",
        "    c = 2 * math.atan2(math.sqrt(a), math.sqrt(1 - a))\n",
        "\n",
        "    # Earth's radius in kilometers (mean value)\n",
        "    R = 6371.0\n",
        "    return R * c\n",
        "\n",
        "# Optimized to embrace elegance and clarity\n",
        "def match_closest_points(array1, array2):\n",
        "    \"\"\"\n",
        "    Match each point in the first array to its nearest neighbor in the second array.\n",
        "\n",
        "    Parameters:\n",
        "        array1: List of tuples representing (latitude, longitude) for the first array.\n",
        "        array2: List of tuples representing (latitude, longitude) for the second array.\n",
        "\n",
        "    Returns:\n",
        "        A list of tuples: (point_from_array1, closest_point_from_array2, distance).\n",
        "    \"\"\"\n",
        "    results = []\n",
        "\n",
        "    # Traverse each point in the first array and find its soulmate from the second array\n",
        "    for lat1, lon1 in array1:\n",
        "        closest_point = None\n",
        "        min_distance = float('inf')\n",
        "\n",
        "        for lat2, lon2 in array2:\n",
        "            distance = haversine_distance(lat1, lon1, lat2, lon2)\n",
        "            if distance < min_distance:\n",
        "                min_distance = distance\n",
        "                closest_point = (lat2, lon2)\n",
        "\n",
        "        # Store the matched pair with their unbreakable bond of distance\n",
        "        results.append(((lat1, lon1), closest_point, min_distance))\n",
        "\n",
        "    return results\n",
        "\n",
        "# Example usage with capitals from different nations\n",
        "if __name__ == \"__main__\":\n",
        "    # Array of geolocations (latitude, longitude) for various capital cities\n",
        "    array1 = [\n",
        "        (38.8951, -77.0364),   # Washington, D.C., USA\n",
        "        (48.8566, 2.3522),     # Paris, France\n",
        "        (35.6895, 139.6917),   # Tokyo, Japan\n",
        "        (-35.2820, 149.1286),  # Canberra, Australia\n",
        "        (55.7558, 37.6173)     # Moscow, Russia\n",
        "    ]\n",
        "\n",
        "    array2 = [\n",
        "        (51.5074, -0.1278),    # London, United Kingdom\n",
        "        (39.9042, 116.4074),   # Beijing, China\n",
        "        (19.4326, -99.1332),   # Mexico City, Mexico\n",
        "        (-15.7942, -47.8822),  # Brasília, Brazil\n",
        "        (52.5200, 13.4050)     # Berlin, Germany\n",
        "    ]\n",
        "\n",
        "    # Match points and share the closest relationships\n",
        "    matches = match_closest_points(array1, array2)\n",
        "\n",
        "    for point1, closest_point, distance in matches:\n",
        "        print(f\"From {point1}, the closest capital is {closest_point} at a distance of {distance:.2f} km.\")\n"
      ],
      "metadata": {
        "colab": {
          "base_uri": "https://localhost:8080/"
        },
        "id": "-BP1cNAsn7bo",
        "outputId": "b78adf1f-240f-4592-f00c-abfd69336706"
      },
      "execution_count": 2,
      "outputs": [
        {
          "output_type": "stream",
          "name": "stdout",
          "text": [
            "From (38.8951, -77.0364), the closest capital is (19.4326, -99.1332) at a distance of 3030.99 km.\n",
            "From (48.8566, 2.3522), the closest capital is (51.5074, -0.1278) at a distance of 343.56 km.\n",
            "From (35.6895, 139.6917), the closest capital is (39.9042, 116.4074) at a distance of 2092.40 km.\n",
            "From (-35.282, 149.1286), the closest capital is (39.9042, 116.4074) at a distance of 9007.62 km.\n",
            "From (55.7558, 37.6173), the closest capital is (52.52, 13.405) at a distance of 1608.83 km.\n"
          ]
        }
      ]
    }
  ]
}