{
  "nbformat": 4,
  "nbformat_minor": 0,
  "metadata": {
    "colab": {
      "provenance": []
    },
    "kernelspec": {
      "name": "python3",
      "display_name": "Python 3"
    },
    "language_info": {
      "name": "python"
    }
  },
  "cells": [
    {
      "cell_type": "code",
      "execution_count": 1,
      "metadata": {
        "colab": {
          "base_uri": "https://localhost:8080/"
        },
        "id": "tH1o2IWmWc7S",
        "outputId": "887a706c-a74f-477e-98c9-5ae1bba4372b"
      },
      "outputs": [
        {
          "output_type": "stream",
          "name": "stdout",
          "text": [
            "The closest issue is at (42.34945958156978, -71.10484057120429) and is 0.12 km away.\n"
          ]
        }
      ],
      "source": [
        "import math\n",
        "import pandas as pd\n",
        "\n",
        "# Haversine formula to calculate the great-circle distance\n",
        "def haversine_distance(lat1, lon1, lat2, lon2):\n",
        "    lat1, lon1, lat2, lon2 = map(math.radians, [lat1, lon1, lat2, lon2])\n",
        "    dlat = lat2 - lat1\n",
        "    dlon = lon2 - lon1\n",
        "    a = math.sin(dlat / 2)**2 + math.cos(lat1) * math.cos(lat2) * math.sin(dlon / 2)**2\n",
        "    c = 2 * math.atan2(math.sqrt(a), math.sqrt(1 - a))\n",
        "    R = 6371.0  # Earth's radius in kilometers\n",
        "    return R * c\n",
        "\n",
        "# Your current location (BU Photonics Center)\n",
        "current_location = (42.3505, -71.1054)  # Latitude and Longitude of BU Photonics Center\n",
        "\n",
        "# Read local CSV file\n",
        "data_file = \"test1.csv\"\n",
        "try:\n",
        "    data = pd.read_csv(data_file)\n",
        "    # Extract relevant columns (Latitude and Longitude)\n",
        "    data = data[['latitude', 'longitude']].dropna()  # Ensure no NaN values\n",
        "except Exception as e:\n",
        "    print(\"Error loading data:\", e)\n",
        "    data = pd.DataFrame()\n",
        "\n",
        "# Find the closest reported issue\n",
        "def find_closest_issue(current_location, data):\n",
        "    current_lat, current_lon = current_location\n",
        "    closest_issue = None\n",
        "    min_distance = float('inf')\n",
        "\n",
        "    for _, row in data.iterrows():\n",
        "        issue_lat, issue_lon = row['latitude'], row['longitude']\n",
        "        distance = haversine_distance(current_lat, current_lon, issue_lat, issue_lon)\n",
        "\n",
        "        if distance < min_distance:\n",
        "            min_distance = distance\n",
        "            closest_issue = (issue_lat, issue_lon, distance)\n",
        "\n",
        "    return closest_issue\n",
        "\n",
        "if not data.empty:\n",
        "    closest_issue = find_closest_issue(current_location, data)\n",
        "    if closest_issue:\n",
        "        lat, lon, distance = closest_issue\n",
        "        print(f\"The closest issue is at ({lat}, {lon}) and is {distance:.2f} km away.\")\n",
        "    else:\n",
        "        print(\"No issues found.\")\n",
        "else:\n",
        "    print(\"No data available.\")\n"
      ]
    },
    {
      "cell_type": "code",
      "source": [
        "import math\n",
        "import pandas as pd\n",
        "\n",
        "# Haversine formula to calculate the great-circle distance\n",
        "def haversine_distance(lat1, lon1, lat2, lon2):\n",
        "    lat1, lon1, lat2, lon2 = map(math.radians, [lat1, lon1, lat2, lon2])\n",
        "    dlat = lat2 - lat1\n",
        "    dlon = lon2 - lon1\n",
        "    a = math.sin(dlat / 2)**2 + math.cos(lat1) * math.cos(lat2) * math.sin(dlon / 2)**2\n",
        "    c = 2 * math.atan2(math.sqrt(a), math.sqrt(1 - a))\n",
        "    R = 6371.0  # Earth's radius in kilometers\n",
        "    return R * c\n",
        "\n",
        "# Your current location (BU Photonics Center)\n",
        "current_location = (42.3505, -71.1054)  # Latitude and Longitude of BU Photonics Center\n",
        "\n",
        "# Read local CSV file\n",
        "data_file = \"test1.csv\"\n",
        "try:\n",
        "    data = pd.read_csv(data_file)\n",
        "    # Extract relevant columns (Latitude and Longitude)\n",
        "    data = data[['latitude', 'longitude']].dropna()  # Ensure no NaN values\n",
        "except Exception as e:\n",
        "    print(\"Error loading data:\", e)\n",
        "    data = pd.DataFrame()\n",
        "\n",
        "# Find the closest reported issues\n",
        "def find_closest_issues(current_location, data, top_n=10):\n",
        "    current_lat, current_lon = current_location\n",
        "    results = []\n",
        "\n",
        "    for _, row in data.iterrows():\n",
        "        issue_lat, issue_lon = row['latitude'], row['longitude']\n",
        "        distance = haversine_distance(current_lat, current_lon, issue_lat, issue_lon)\n",
        "        results.append((issue_lat, issue_lon, distance))\n",
        "\n",
        "    # Sort by distance and return the top N closest issues\n",
        "    results.sort(key=lambda x: x[2])\n",
        "    return results[:top_n]\n",
        "\n",
        "if not data.empty:\n",
        "    closest_issues = find_closest_issues(current_location, data, top_n=10)\n",
        "    if closest_issues:\n",
        "        print(\"The 10 closest issues are:\")\n",
        "        for lat, lon, distance in closest_issues:\n",
        "            print(f\"Issue at ({lat}, {lon}) is {distance:.2f} km away.\")\n",
        "    else:\n",
        "        print(\"No issues found.\")\n",
        "else:\n",
        "    print(\"No data available.\")\n"
      ],
      "metadata": {
        "colab": {
          "base_uri": "https://localhost:8080/"
        },
        "id": "KVD6I-cWXGJq",
        "outputId": "a80060ee-a0c2-480d-e9f3-3c81cb4d4daa"
      },
      "execution_count": 2,
      "outputs": [
        {
          "output_type": "stream",
          "name": "stdout",
          "text": [
            "The 10 closest issues are:\n",
            "Issue at (42.34945958156978, -71.10484057120429) is 0.12 km away.\n",
            "Issue at (42.35050123398575, -71.10763172800043) is 0.18 km away.\n",
            "Issue at (42.34988626501212, -71.10304421603614) is 0.21 km away.\n",
            "Issue at (42.34840216897716, -71.10598237504239) is 0.24 km away.\n",
            "Issue at (42.348569930505455, -71.10689247607672) is 0.25 km away.\n",
            "Issue at (42.348569930505455, -71.10689247607672) is 0.25 km away.\n",
            "Issue at (42.34938617873361, -71.10056996632026) is 0.42 km away.\n",
            "Issue at (42.35134650603559, -71.10039513923078) is 0.42 km away.\n",
            "Issue at (42.35134650603559, -71.10039513923078) is 0.42 km away.\n",
            "Issue at (42.35134650603559, -71.10039513923078) is 0.42 km away.\n"
          ]
        }
      ]
    }
  ]
}